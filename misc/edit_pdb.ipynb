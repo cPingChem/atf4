{
 "cells": [
  {
   "cell_type": "markdown",
   "id": "951c3ca9",
   "metadata": {},
   "source": [
    "# Editing a PDB file\n",
    "\n",
    "## Chuan Ping\n",
    "\n",
    "### This Jupyter Notebook file contains the codes to perform edits on a .pdb file. Note that this can also be extrapolated to other trajectory formats."
   ]
  },
  {
   "cell_type": "code",
   "execution_count": 1,
   "id": "e26538f8",
   "metadata": {},
   "outputs": [
    {
     "data": {
      "application/vnd.jupyter.widget-view+json": {
       "model_id": "63e02109e8a846e89b83792b9e369080",
       "version_major": 2,
       "version_minor": 0
      },
      "text/plain": []
     },
     "metadata": {},
     "output_type": "display_data"
    }
   ],
   "source": [
    "import numpy as np\n",
    "import matplotlib.pyplot as plt\n",
    "\n",
    "import mdtraj as md\n",
    "import MDAnalysis as mda\n",
    "\n",
    "from contact_map import ContactFrequency, ContactDifference\n",
    "\n",
    "import nglview as nv\n",
    "import ipywidgets\n",
    "\n",
    "%matplotlib inline\n",
    "%config InlineBackend.figure_format='retina'\n",
    "\n",
    "plt.style.use('bmh')"
   ]
  },
  {
   "cell_type": "markdown",
   "id": "82d78553",
   "metadata": {},
   "source": [
    "## Load the pdb file"
   ]
  },
  {
   "cell_type": "code",
   "execution_count": 28,
   "id": "e90d30a5",
   "metadata": {},
   "outputs": [
    {
     "name": "stdout",
     "output_type": "stream",
     "text": [
      "<mdtraj.Trajectory with 1 frames, 213050 atoms, 69837 residues, and unitcells>\n",
      "CPU times: user 9.78 s, sys: 105 ms, total: 9.88 s\n",
      "Wall time: 9.86 s\n"
     ]
    }
   ],
   "source": [
    "%%time\n",
    "traj = md.load('/Users/cping/Desktop/ATF4/tad_simulation/solvated.pdb') \n",
    "print(traj)"
   ]
  },
  {
   "cell_type": "markdown",
   "id": "d1ca63c5",
   "metadata": {},
   "source": [
    "## Removal of solvents"
   ]
  },
  {
   "cell_type": "code",
   "execution_count": 29,
   "id": "efb72500",
   "metadata": {},
   "outputs": [
    {
     "name": "stdout",
     "output_type": "stream",
     "text": [
      "<mdtraj.Trajectory with 1 frames, 5380 atoms, 351 residues, and unitcells>\n",
      "CPU times: user 11.8 s, sys: 18.4 ms, total: 11.8 s\n",
      "Wall time: 11.8 s\n"
     ]
    }
   ],
   "source": [
    "%%time\n",
    "traj_nw = traj.remove_solvent()\n",
    "print(traj_nw)"
   ]
  },
  {
   "cell_type": "code",
   "execution_count": 30,
   "id": "0504f87a",
   "metadata": {},
   "outputs": [
    {
     "data": {
      "application/vnd.jupyter.widget-view+json": {
       "model_id": "6af80b53cef54fe7997742564c13e3a0",
       "version_major": 2,
       "version_minor": 0
      },
      "text/plain": [
       "NGLWidget()"
      ]
     },
     "metadata": {},
     "output_type": "display_data"
    }
   ],
   "source": [
    "show = nv.show_mdtraj(traj_nw)\n",
    "show"
   ]
  },
  {
   "cell_type": "code",
   "execution_count": 31,
   "id": "92d60b07",
   "metadata": {},
   "outputs": [
    {
     "name": "stdout",
     "output_type": "stream",
     "text": [
      "CPU times: user 80.6 ms, sys: 4.97 ms, total: 85.6 ms\n",
      "Wall time: 85.1 ms\n"
     ]
    }
   ],
   "source": [
    "%%time\n",
    "traj_nw.save(\"atf4_nw.pdb\")"
   ]
  },
  {
   "cell_type": "markdown",
   "id": "4cc85517",
   "metadata": {},
   "source": [
    "## Select Residues "
   ]
  },
  {
   "cell_type": "code",
   "execution_count": 32,
   "id": "c8fe980b",
   "metadata": {},
   "outputs": [
    {
     "name": "stdout",
     "output_type": "stream",
     "text": [
      "<mdtraj.Topology with 1 chains, 351 residues, 5380 atoms, 5434 bonds>\n"
     ]
    }
   ],
   "source": [
    "topology_nw = traj_nw.topology\n",
    "print(topology_nw)"
   ]
  },
  {
   "cell_type": "code",
   "execution_count": 34,
   "id": "c4f59ca9",
   "metadata": {},
   "outputs": [
    {
     "name": "stdout",
     "output_type": "stream",
     "text": [
      "<mdtraj.Trajectory with 1 frames, 4072 atoms, 275 residues, and unitcells>\n",
      "CPU times: user 1.45 s, sys: 5.48 ms, total: 1.46 s\n",
      "Wall time: 1.46 s\n"
     ]
    }
   ],
   "source": [
    "%%time\n",
    "# Select certain residues (this is an immature method)\n",
    "# Note that the first residue has index 0, instead of 1. \n",
    "\n",
    "atom_to_keep = [atom for atom in topology_nw.select('resid 0 to 274')]\n",
    "tad_domain = traj_nw.restrict_atoms(atom_to_keep)\n",
    "print(tad_domain)"
   ]
  },
  {
   "cell_type": "code",
   "execution_count": 35,
   "id": "fff6901f",
   "metadata": {},
   "outputs": [
    {
     "data": {
      "application/vnd.jupyter.widget-view+json": {
       "model_id": "a4e0a6dd53eb45d7932ede9f2ab459c6",
       "version_major": 2,
       "version_minor": 0
      },
      "text/plain": [
       "NGLWidget()"
      ]
     },
     "metadata": {},
     "output_type": "display_data"
    }
   ],
   "source": [
    "show = nv.show_mdtraj(tad_domain)\n",
    "show"
   ]
  },
  {
   "cell_type": "code",
   "execution_count": 36,
   "id": "2c731644",
   "metadata": {},
   "outputs": [
    {
     "name": "stdout",
     "output_type": "stream",
     "text": [
      "CPU times: user 59.4 ms, sys: 3.66 ms, total: 63 ms\n",
      "Wall time: 62.3 ms\n"
     ]
    }
   ],
   "source": [
    "%%time\n",
    "tad_domain.save(\"tad_domain.pdb\")"
   ]
  },
  {
   "cell_type": "code",
   "execution_count": null,
   "id": "496d6d34",
   "metadata": {},
   "outputs": [],
   "source": []
  }
 ],
 "metadata": {
  "kernelspec": {
   "display_name": "Python [conda env:openmm] *",
   "language": "python",
   "name": "conda-env-openmm-py"
  },
  "language_info": {
   "codemirror_mode": {
    "name": "ipython",
    "version": 3
   },
   "file_extension": ".py",
   "mimetype": "text/x-python",
   "name": "python",
   "nbconvert_exporter": "python",
   "pygments_lexer": "ipython3",
   "version": "3.9.7"
  }
 },
 "nbformat": 4,
 "nbformat_minor": 5
}
