{
 "cells": [
  {
   "cell_type": "markdown",
   "id": "ffe18c41",
   "metadata": {
    "slideshow": {
     "slide_type": "slide"
    }
   },
   "source": [
    "# ATF4 Project\n",
    "## Check if the starting point of the next simulation is sufficiently similar to the last frame of the trajectory"
   ]
  },
  {
   "cell_type": "markdown",
   "id": "93e527d1",
   "metadata": {
    "slideshow": {
     "slide_type": "subslide"
    }
   },
   "source": [
    "### Chuan Ping\n",
    "#### Mar 2, 2022"
   ]
  },
  {
   "cell_type": "code",
   "execution_count": 1,
   "id": "13275395",
   "metadata": {},
   "outputs": [
    {
     "data": {
      "application/vnd.jupyter.widget-view+json": {
       "model_id": "ae00c80ebae2491695db503e3c2a55ba",
       "version_major": 2,
       "version_minor": 0
      },
      "text/plain": []
     },
     "metadata": {},
     "output_type": "display_data"
    }
   ],
   "source": [
    "import numpy as np\n",
    "import matplotlib.pyplot as plt\n",
    "\n",
    "import mdtraj as md\n",
    "import MDAnalysis as mda\n",
    "\n",
    "import nglview as nv\n",
    "import ipywidgets\n",
    "\n",
    "%matplotlib inline\n",
    "%config InlineBackend.figure_format='retina'\n",
    "\n",
    "plt.style.use('bmh')"
   ]
  },
  {
   "cell_type": "code",
   "execution_count": 2,
   "id": "0fff063c",
   "metadata": {},
   "outputs": [
    {
     "name": "stdout",
     "output_type": "stream",
     "text": [
      "<mdtraj.Trajectory with 11464 frames, 5380 atoms, 352 residues, and unitcells>\n",
      "<mdtraj.Trajectory with 1 frames, 5380 atoms, 352 residues, and unitcells>\n"
     ]
    }
   ],
   "source": [
    "# load the two trajectory files. \n",
    "\n",
    "traj_nw = md.load_hdf5('/Users/cping/Desktop/ATF4/replica3/traj_nw_replica_3.h5') \n",
    "traj_restart_nw = md.load_pdb('/Users/cping/Desktop/ATF4/replica3/restart_3_nw.pdb')\n",
    "\n",
    "#center the two trajectories at (0,0,0) so when it is viewed, it will not jump around.\n",
    "traj_nw.center_coordinates(traj_nw)\n",
    "traj_restart_nw.center_coordinates(traj_restart_nw)\n",
    "\n",
    "#displays some basic properties of the trajectories.\n",
    "print(traj_nw)\n",
    "print(traj_restart_nw) #The number of frames here should be 1"
   ]
  },
  {
   "cell_type": "code",
   "execution_count": 4,
   "id": "3e4691a2",
   "metadata": {},
   "outputs": [
    {
     "data": {
      "application/vnd.jupyter.widget-view+json": {
       "model_id": "1dc09bc7652240b090c9519c099cb82c",
       "version_major": 2,
       "version_minor": 0
      },
      "text/plain": [
       "NGLWidget(max_frame=11463)"
      ]
     },
     "metadata": {},
     "output_type": "display_data"
    }
   ],
   "source": [
    "# Shows the trajectory of interest without water\n",
    "show_nw = nv.show_mdtraj(traj_nw)\n",
    "show_nw"
   ]
  },
  {
   "cell_type": "code",
   "execution_count": 5,
   "id": "10502be6",
   "metadata": {},
   "outputs": [
    {
     "data": {
      "application/vnd.jupyter.widget-view+json": {
       "model_id": "204618fd00314a81b9b4684d8a7c2a51",
       "version_major": 2,
       "version_minor": 0
      },
      "text/plain": [
       "NGLWidget()"
      ]
     },
     "metadata": {},
     "output_type": "display_data"
    }
   ],
   "source": [
    "# Shows the restart.pdb file\n",
    "show_restart_nw = nv.show_mdtraj(traj_restart_nw)\n",
    "show_restart_nw"
   ]
  },
  {
   "cell_type": "code",
   "execution_count": 6,
   "id": "07df35bd",
   "metadata": {},
   "outputs": [
    {
     "data": {
      "application/vnd.jupyter.widget-view+json": {
       "model_id": "a0fa28ef4ff44642b79aed75e32d2a94",
       "version_major": 2,
       "version_minor": 0
      },
      "text/plain": [
       "NGLWidget()"
      ]
     },
     "metadata": {},
     "output_type": "display_data"
    }
   ],
   "source": [
    "# Shows the last frame of the trajectory of interest\n",
    "last_frame = traj_nw[-1]\n",
    "show_last_frame = nv.show_mdtraj(last_frame)\n",
    "show_last_frame"
   ]
  },
  {
   "cell_type": "code",
   "execution_count": 7,
   "id": "7f4e4158",
   "metadata": {},
   "outputs": [
    {
     "data": {
      "text/plain": [
       "array([2.91602798])"
      ]
     },
     "execution_count": 7,
     "metadata": {},
     "output_type": "execute_result"
    }
   ],
   "source": [
    "# Calculate the radius of gyration of the last frame\n",
    "rg_nw = md.compute_rg(last_frame)\n",
    "rg_nw"
   ]
  },
  {
   "cell_type": "code",
   "execution_count": 8,
   "id": "38ddadbd",
   "metadata": {},
   "outputs": [
    {
     "data": {
      "text/plain": [
       "array([2.91602749])"
      ]
     },
     "execution_count": 8,
     "metadata": {},
     "output_type": "execute_result"
    }
   ],
   "source": [
    "rg_restart_nw = md.compute_rg(traj_restart_nw)\n",
    "rg_restart_nw"
   ]
  },
  {
   "cell_type": "code",
   "execution_count": 9,
   "id": "a6731c3b",
   "metadata": {},
   "outputs": [
    {
     "data": {
      "text/plain": [
       "array([4.88277788e-07])"
      ]
     },
     "execution_count": 9,
     "metadata": {},
     "output_type": "execute_result"
    }
   ],
   "source": [
    "# If the difference is sufficiently small, then we are sure that the restart.pdb file is indeed the last frame\n",
    "# of the trajectory. \n",
    "difference = rg_nw - rg_restart_nw\n",
    "difference"
   ]
  },
  {
   "cell_type": "code",
   "execution_count": null,
   "id": "cab4427e",
   "metadata": {},
   "outputs": [],
   "source": []
  }
 ],
 "metadata": {
  "kernelspec": {
   "display_name": "Python [conda env:openmm] *",
   "language": "python",
   "name": "conda-env-openmm-py"
  },
  "language_info": {
   "codemirror_mode": {
    "name": "ipython",
    "version": 3
   },
   "file_extension": ".py",
   "mimetype": "text/x-python",
   "name": "python",
   "nbconvert_exporter": "python",
   "pygments_lexer": "ipython3",
   "version": "3.9.7"
  }
 },
 "nbformat": 4,
 "nbformat_minor": 5
}
