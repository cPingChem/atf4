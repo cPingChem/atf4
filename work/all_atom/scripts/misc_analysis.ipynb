{
 "cells": [
  {
   "cell_type": "markdown",
   "id": "9f26b33f",
   "metadata": {},
   "source": [
    "# Other Analysis\n",
    "\n",
    "## Chuan Ping\n",
    "\n",
    "### This Jupyter Notebook file contains others analyses of the ATF4 protein\n",
    "Contact analysis is in contactAnalysis.ipynb"
   ]
  },
  {
   "cell_type": "code",
   "execution_count": 3,
   "id": "2138c9b4",
   "metadata": {},
   "outputs": [
    {
     "data": {
      "application/vnd.jupyter.widget-view+json": {
       "model_id": "2e05deefe3354ad3a98f5759ba6a9029",
       "version_major": 2,
       "version_minor": 0
      },
      "text/plain": []
     },
     "metadata": {},
     "output_type": "display_data"
    }
   ],
   "source": [
    "import numpy as np\n",
    "import matplotlib.pyplot as plt\n",
    "\n",
    "import mdtraj as md\n",
    "import MDAnalysis as mda\n",
    "\n",
    "from contact_map import ContactFrequency, ContactDifference\n",
    "\n",
    "import nglview as nv\n",
    "import ipywidgets\n",
    "\n",
    "%matplotlib inline\n",
    "%config InlineBackend.figure_format='retina'\n",
    "\n",
    "plt.style.use('bmh')"
   ]
  },
  {
   "cell_type": "code",
   "execution_count": 4,
   "id": "1723d6b7",
   "metadata": {},
   "outputs": [],
   "source": [
    "# Important data and functions necessary for the project\n",
    "#This section defines constants, functions, models that are beneficial for the analysis.\n",
    "\n",
    "ns_per_frame = 0.02"
   ]
  },
  {
   "cell_type": "markdown",
   "id": "a78e1b78",
   "metadata": {},
   "source": [
    "## Loading and Showing the Trajectory Files\n",
    "Just loading one trajectory file (as concatenated) should be enough. When the data collection is complete, simply put all data in."
   ]
  },
  {
   "cell_type": "code",
   "execution_count": 5,
   "id": "7eda2581",
   "metadata": {},
   "outputs": [
    {
     "name": "stdout",
     "output_type": "stream",
     "text": [
      "<mdtraj.Trajectory with 113690 frames, 5380 atoms, 352 residues, and unitcells>\n",
      "CPU times: user 34.3 s, sys: 17.3 s, total: 51.6 s\n",
      "Wall time: 17min 23s\n"
     ]
    }
   ],
   "source": [
    "%%time\n",
    "traj1 = md.load_hdf5('/Users/cping/Desktop/ATF4/replica1/traj_rep_1.h5') \n",
    "print(traj1)"
   ]
  },
  {
   "cell_type": "code",
   "execution_count": 6,
   "id": "b203919e",
   "metadata": {},
   "outputs": [
    {
     "name": "stdout",
     "output_type": "stream",
     "text": [
      "<mdtraj.Topology with 1 chains, 352 residues, 5380 atoms, 5430 bonds>\n",
      "The total length of the trajectory is 2273 ns.\n",
      "CPU times: user 727 µs, sys: 709 µs, total: 1.44 ms\n",
      "Wall time: 1.12 ms\n"
     ]
    }
   ],
   "source": [
    "%%time\n",
    "topology1 = traj1.topology\n",
    "print(topology1)\n",
    "print(\"The total length of the trajectory is \" + str(int(ns_per_frame * traj1.n_frames)) + \" ns.\")"
   ]
  },
  {
   "cell_type": "markdown",
   "id": "265d3f83",
   "metadata": {},
   "source": [
    "## Compute the secondary structure of the trajectory "
   ]
  },
  {
   "cell_type": "code",
   "execution_count": 8,
   "id": "6ba4a5b5",
   "metadata": {},
   "outputs": [
    {
     "name": "stdout",
     "output_type": "stream",
     "text": [
      "<mdtraj.Trajectory with 1137 frames, 5380 atoms, 352 residues, and unitcells>\n"
     ]
    }
   ],
   "source": [
    "traj_simplified = traj1[::100]\n",
    "print(traj_simplified)"
   ]
  },
  {
   "cell_type": "code",
   "execution_count": 9,
   "id": "66a72725",
   "metadata": {},
   "outputs": [
    {
     "name": "stdout",
     "output_type": "stream",
     "text": [
      "[['NA' 'C' 'C' ... 'C' 'C' 'NA']\n",
      " ['NA' 'C' 'C' ... 'C' 'C' 'NA']\n",
      " ['NA' 'C' 'C' ... 'C' 'C' 'NA']\n",
      " ...\n",
      " ['NA' 'C' 'C' ... 'C' 'C' 'NA']\n",
      " ['NA' 'C' 'C' ... 'C' 'C' 'NA']\n",
      " ['NA' 'C' 'C' ... 'C' 'C' 'NA']]\n",
      "CPU times: user 657 ms, sys: 5.88 ms, total: 663 ms\n",
      "Wall time: 794 ms\n"
     ]
    }
   ],
   "source": [
    "%%time\n",
    "print(md.compute_dssp(traj_simplified))"
   ]
  },
  {
   "cell_type": "code",
   "execution_count": null,
   "id": "5a15d7d2",
   "metadata": {},
   "outputs": [],
   "source": []
  }
 ],
 "metadata": {
  "kernelspec": {
   "display_name": "Python 3 (ipykernel)",
   "language": "python",
   "name": "python3"
  },
  "language_info": {
   "codemirror_mode": {
    "name": "ipython",
    "version": 3
   },
   "file_extension": ".py",
   "mimetype": "text/x-python",
   "name": "python",
   "nbconvert_exporter": "python",
   "pygments_lexer": "ipython3",
   "version": "3.9.12"
  }
 },
 "nbformat": 4,
 "nbformat_minor": 5
}
