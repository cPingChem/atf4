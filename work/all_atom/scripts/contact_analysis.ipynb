{
 "cells": [
  {
   "cell_type": "markdown",
   "id": "d867e839",
   "metadata": {},
   "source": [
    "# Contact Analysis\n",
    "\n",
    "## Chuan Ping\n",
    "\n",
    "### This Jupyter Notebook file contains all codes related to contact analysis of the ATF4 protein\n",
    "Other analyses will be included in separate files"
   ]
  },
  {
   "cell_type": "code",
   "execution_count": null,
   "id": "8cd9460c",
   "metadata": {},
   "outputs": [],
   "source": []
  },
  {
   "cell_type": "code",
   "execution_count": 6,
   "id": "d1a8d344",
   "metadata": {},
   "outputs": [],
   "source": [
    "import numpy as np\n",
    "import matplotlib.pyplot as plt\n",
    "\n",
    "import mdtraj as md\n",
    "import MDAnalysis as mda\n",
    "\n",
    "from contact_map import ContactFrequency, ContactDifference\n",
    "\n",
    "import nglview as nv\n",
    "import ipywidgets\n",
    "\n",
    "%matplotlib inline\n",
    "%config InlineBackend.figure_format='retina'\n",
    "\n",
    "plt.style.use('bmh')"
   ]
  },
  {
   "cell_type": "markdown",
   "id": "70cd1ca3",
   "metadata": {},
   "source": [
    "## Important data and functions necessary for the project\n",
    "This section defines constants, functions, models that are beneficial for the analysis."
   ]
  },
  {
   "cell_type": "code",
   "execution_count": 60,
   "id": "862d33df",
   "metadata": {},
   "outputs": [],
   "source": [
    "# This block specifies important parameters.\n",
    "ns_per_frame  = 0.02\n",
    "\n",
    "eq_frame_1    = 40000 # The starting frame, the trajectory after which is considered \"equilibriated\"\n",
    "# eq_frame_2    = \n",
    "# eq_frame_3    = \n",
    "\n",
    "cutoffValue   = 0.25 # The threshold frequency of contacts\n",
    "howManyFrames = 20 # Out of how many frames should one frame be selected (computational power limited)"
   ]
  },
  {
   "cell_type": "code",
   "execution_count": 38,
   "id": "92dbfc8f",
   "metadata": {},
   "outputs": [],
   "source": [
    "# This is a list method not directly related to the analysis. \n",
    "# Very useful in removing redundant amino acids\n",
    "\n",
    "def removeDuplicates(list):\n",
    "    \"\"\"\n",
    "    Remove duplicates in a list. This is used to prevent add_representation from malfunctioning\n",
    "    due to one residue may have more than one interactions with others\n",
    "    \n",
    "    list: the original list that may or may not contain duplicates\n",
    "    \n",
    "    output: a list without replicates\n",
    "    \"\"\"\n",
    "    output = []\n",
    "    [output.append(x) for x in list if x not in output]\n",
    "    return output"
   ]
  },
  {
   "cell_type": "markdown",
   "id": "13848bc1",
   "metadata": {},
   "source": [
    "## Loading and Showing the Trajectory Files\n",
    "Just loading one trajectory file (as concatenated) should be enough. When the data collection is complete, simply put all data in."
   ]
  },
  {
   "cell_type": "code",
   "execution_count": 7,
   "id": "9463f773",
   "metadata": {},
   "outputs": [
    {
     "name": "stdout",
     "output_type": "stream",
     "text": [
      "<mdtraj.Trajectory with 113690 frames, 5380 atoms, 352 residues, and unitcells>\n",
      "CPU times: user 35.8 s, sys: 23.9 s, total: 59.6 s\n",
      "Wall time: 46min 24s\n"
     ]
    }
   ],
   "source": [
    "%%time\n",
    "traj1 = md.load_hdf5('/Users/cping/Desktop/ATF4/replica1/traj_rep_1.h5') \n",
    "#traj1.center_coordinates(traj1)\n",
    "print(traj1)"
   ]
  },
  {
   "cell_type": "code",
   "execution_count": 8,
   "id": "3eac36e6",
   "metadata": {},
   "outputs": [
    {
     "name": "stdout",
     "output_type": "stream",
     "text": [
      "<mdtraj.Topology with 1 chains, 352 residues, 5380 atoms, 5430 bonds>\n",
      "CPU times: user 163 µs, sys: 124 µs, total: 287 µs\n",
      "Wall time: 270 µs\n"
     ]
    }
   ],
   "source": [
    "%%time\n",
    "topology1 = traj1.topology\n",
    "print(topology1)"
   ]
  },
  {
   "cell_type": "code",
   "execution_count": null,
   "id": "476790b5",
   "metadata": {},
   "outputs": [],
   "source": [
    "# %%time\n",
    "# traj1.superpose(traj1, traj1)\n",
    "# show1 = nv.show_mdtraj(traj1)\n",
    "# show1"
   ]
  },
  {
   "cell_type": "markdown",
   "id": "0dc15feb",
   "metadata": {},
   "source": [
    "## Using Rg values to select equilibriated portions\n",
    "This is for contact analysis. It is selected by estimating.\n",
    "#### Note that there may exist a \"systematic\" or \"scientific\" way to determine what portions can be counted as \"equilibriated\" "
   ]
  },
  {
   "cell_type": "code",
   "execution_count": null,
   "id": "1d43dc82",
   "metadata": {},
   "outputs": [],
   "source": [
    "%%time\n",
    "# Select the Alpha Carbon atom of every residue of the trajectory\n",
    "ca_1      = traj1.top.select('name CA')\n",
    "ca_traj_1 = traj1.atom_slice(ca_1)\n",
    "\n",
    "# Calculate the RMSD and Rg of three replicas\n",
    "rmsd_1   = md.rmsd(ca_traj_1, ca_traj_1[0])\n",
    "rg_1     = md.compute_rg(ca_traj_1)"
   ]
  },
  {
   "cell_type": "code",
   "execution_count": null,
   "id": "67a7cbae",
   "metadata": {},
   "outputs": [],
   "source": [
    "# Plots the radius of gyration of the trajectory\n",
    "\n",
    "time_1 = ns_per_frame*np.arange(len(rg_1))\n",
    "\n",
    "plt.plot(time_1, rg_1)\n",
    "plt.legend(['rg'])\n",
    "plt.xlabel('Time/ns')\n",
    "plt.ylabel('Radius of Gyration')"
   ]
  },
  {
   "cell_type": "code",
   "execution_count": 26,
   "id": "d6dfc074",
   "metadata": {},
   "outputs": [
    {
     "name": "stdout",
     "output_type": "stream",
     "text": [
      "<mdtraj.Trajectory with 73690 frames, 5380 atoms, 352 residues, and unitcells>\n",
      "CPU times: user 1.84 s, sys: 2.76 s, total: 4.6 s\n",
      "Wall time: 26.4 s\n"
     ]
    }
   ],
   "source": [
    "%%time\n",
    "# Gets the equilibriated portion of the trajectory\n",
    "traj1_eq = traj1[eq_frame_1::]\n",
    "print(traj1_eq)"
   ]
  },
  {
   "cell_type": "code",
   "execution_count": 27,
   "id": "410a5098",
   "metadata": {},
   "outputs": [
    {
     "name": "stdout",
     "output_type": "stream",
     "text": [
      "The total length of the trajectory is 2273 ns.\n",
      "The length of the equilibriated portion is 1473 ns.\n"
     ]
    }
   ],
   "source": [
    "print(\"The total length of the trajectory is \" + str(int(ns_per_frame * traj1.n_frames)) + \" ns.\")\n",
    "print(\"The length of the equilibriated portion is \" + str(int(ns_per_frame * traj1_eq.n_frames)) + \" ns.\")"
   ]
  },
  {
   "cell_type": "markdown",
   "id": "170cb630",
   "metadata": {},
   "source": [
    "## Contact Map\n",
    "This gives a rough idea of the contacts. Detailed residue-to-residue contact analyses will be put forward later."
   ]
  },
  {
   "cell_type": "code",
   "execution_count": 29,
   "id": "dbf853b3",
   "metadata": {},
   "outputs": [
    {
     "name": "stdout",
     "output_type": "stream",
     "text": [
      "CPU times: user 2min 53s, sys: 1.26 s, total: 2min 54s\n",
      "Wall time: 2min 55s\n"
     ]
    }
   ],
   "source": [
    "%%time\n",
    "# It is regretfully sad that we cannot take every frame into calculating contact frequency. 1 in 20 frames chosen.\n",
    "traj1_contacts = ContactFrequency(traj1_eq[::howManyFrames])"
   ]
  },
  {
   "cell_type": "code",
   "execution_count": 30,
   "id": "6cbd449a",
   "metadata": {},
   "outputs": [
    {
     "name": "stdout",
     "output_type": "stream",
     "text": [
      "CPU times: user 5.04 s, sys: 105 ms, total: 5.14 s\n",
      "Wall time: 5.33 s\n"
     ]
    },
    {
     "data": {
      "text/plain": [
       "Text(0, 0.5, 'Residue')"
      ]
     },
     "execution_count": 30,
     "metadata": {},
     "output_type": "execute_result"
    },
    {
     "data": {
      "image/png": "[encoded data removed]",
      "text/plain": [
       "<Figure size 720x720 with 2 Axes>"
      ]
     },
     "metadata": {
      "image/png": {
       "height": 587,
       "width": 630
      },
      "needs_background": "light"
     },
     "output_type": "display_data"
    }
   ],
   "source": [
    "%%time\n",
    "fig, ax = traj1_contacts.residue_contacts.plot(figsize=(10,10))\n",
    "plt.xlabel(\"Residue\")\n",
    "plt.ylabel(\"Residue\")"
   ]
  },
  {
   "cell_type": "markdown",
   "id": "2c11f803",
   "metadata": {},
   "source": [
    "## Detailed Contact Analyses between four \"regions\" of the ATF4 protein"
   ]
  },
  {
   "cell_type": "code",
   "execution_count": 31,
   "id": "6627deea",
   "metadata": {},
   "outputs": [],
   "source": [
    "# This specifies the residue numbers of the four visual regions of the ATF4 protein.\n",
    "# Rationale drawn from Steven's paper. Note that all residues were counted, although his paper does not indicate so.\n",
    "\n",
    "tad_1  = range(0,155)\n",
    "tad_2  = range(156,275)\n",
    "bzip_1 = range(276,300)\n",
    "bzip_2 = range(301,351)"
   ]
  },
  {
   "cell_type": "code",
   "execution_count": 34,
   "id": "655b2f7d",
   "metadata": {},
   "outputs": [],
   "source": [
    "# This function returns a list that can be quoted in visualization\n",
    "\n",
    "def getContactIndex(contacts, topology, region1, region2, cutoffValue):\n",
    "    \"\"\"\n",
    "    contacts: the contact map of the trajectory\n",
    "    topology: the topology of the trajectory\n",
    "    region1/2: the regions of residues of interest, as a range\n",
    "    cutoffValue: the threshold of level of contacts\n",
    "    \n",
    "    returns a list containing the residue numbers of the residues that are in contact(this is for visualization)\n",
    "    \"\"\"\n",
    "    resid_1_list = [] # Creates an empty list storing values of the residues\n",
    "    resid_2_list = []\n",
    "    for resid1 in region1:\n",
    "        for contact in contacts.residue_contacts.most_common(topology.residue(resid1)):\n",
    "            if contact[1] > cutoffValue and contact[0][1].index in region2:\n",
    "                resid_1_list.append(contact[0][0].index + 1) # +1 to compensate for list starting with 0\n",
    "                resid_2_list.append(contact[0][1].index + 1)\n",
    "    return removeDuplicates(resid_1_list), removeDuplicates(resid_2_list)"
   ]
  },
  {
   "cell_type": "code",
   "execution_count": 36,
   "id": "ee8af78b",
   "metadata": {},
   "outputs": [
    {
     "name": "stdout",
     "output_type": "stream",
     "text": [
      "CPU times: user 1.17 s, sys: 6.77 ms, total: 1.18 s\n",
      "Wall time: 1.18 s\n"
     ]
    }
   ],
   "source": [
    "%%time\n",
    "# Constructs the contact map between regions of interest\n",
    "\n",
    "def contactBetweenRegions(contacts, topology, region1, region2, cutoffValue, outputFileName):\n",
    "    \"\"\"\n",
    "    contacts: the contact map of the trajectory\n",
    "    topology: the topology of the trajectory\n",
    "    region1/2: the regions of residues of interest, as a range\n",
    "    cutoffValue: the threshold of level of contacts\n",
    "    \n",
    "    returns \n",
    "    1) a txt file outlining important contacts between two regions of interest in the protein\n",
    "    2) a list containing the residue numbers of the residues that are in contact(this is for visualization)\n",
    "    \"\"\"\n",
    "    resid_1_list = [] # Creates two emply lists storing indices of the residues\n",
    "    resid_2_list = []\n",
    "    \n",
    "    with open(outputFileName, 'w') as output:\n",
    "        output.write(outputFileName + '\\n\\n')\n",
    "        for resid1 in region1:\n",
    "            for contact in contacts.residue_contacts.most_common(topology.residue(resid1)):\n",
    "                if contact[1] > cutoffValue and contact[0][1].index in region2:\n",
    "                    resid_1_list.append(contact[0][0].index)\n",
    "                    resid_2_list.append(contact[0][1].index)\n",
    "                    output.write(str(contact) + '\\n\\n')\n",
    "                    \n",
    "# Obtains the contact information of the four interacting regions (excluding self)\n",
    "\n",
    "contactBetweenRegions(traj1_contacts, topology1, tad_1, bzip_1, cutoffValue, \"tad_1_bzip_1.txt\")\n",
    "contactBetweenRegions(traj1_contacts, topology1, tad_2, bzip_2, cutoffValue, \"tad_2_bzip_2.txt\")\n",
    "contactBetweenRegions(traj1_contacts, topology1, tad_1, tad_2, cutoffValue, \"tad_1_tad_2.txt\")\n",
    "contactBetweenRegions(traj1_contacts, topology1, bzip_1, bzip_2, cutoffValue, \"bzip_1_bzip_2.txt\")"
   ]
  },
  {
   "cell_type": "markdown",
   "id": "cfc13f1d",
   "metadata": {},
   "source": [
    "## Visualization of the contacts\n",
    "\n",
    "**Some parameter names are reused.**"
   ]
  },
  {
   "cell_type": "code",
   "execution_count": 39,
   "id": "4a27e649",
   "metadata": {},
   "outputs": [],
   "source": [
    "# This function is constructed to accommodate the selection feature of nglview.\n",
    "\n",
    "def obtainSelection(list):\n",
    "    \"\"\"\n",
    "    To accommodate the selection feature of nglview. \n",
    "    \n",
    "    list: input list of residue indices, numbers only\n",
    "    \n",
    "    output: a string in the format of what add_representation will take\n",
    "    \"\"\"\n",
    "    output = \"\"\n",
    "    for x in list:\n",
    "        output += (\"(\" + str(x) + \"),\")\n",
    "    output = output[:-1] # Removes the final comma\n",
    "    return output"
   ]
  },
  {
   "cell_type": "code",
   "execution_count": 62,
   "id": "4fcbe8e7",
   "metadata": {},
   "outputs": [
    {
     "name": "stdout",
     "output_type": "stream",
     "text": [
      "[4, 7, 9, 10, 11, 36, 37, 102, 103, 106, 107, 137, 138, 153, 154, 155]\n",
      "[285, 288, 284, 287, 277, 280, 296, 299, 294, 297, 293, 295, 298]\n"
     ]
    },
    {
     "data": {
      "application/vnd.jupyter.widget-view+json": {
       "model_id": "f024d21e69e24aabad72edac4d104e5a",
       "version_major": 2,
       "version_minor": 0
      },
      "text/plain": [
       "NGLWidget(max_frame=3684)"
      ]
     },
     "metadata": {},
     "output_type": "display_data"
    }
   ],
   "source": [
    "# If there are too many contacts, display may become choppy. \n",
    "# I am using different representations across plots to see which one looks better.\n",
    "\n",
    "resid_1_list = getContactIndex(traj1_contacts, topology1, tad_1, bzip_1, cutoffValue)[0]\n",
    "print(resid_1_list)\n",
    "resid_2_list = getContactIndex(traj1_contacts, topology1, tad_1, bzip_1, cutoffValue)[1]\n",
    "print(resid_2_list)\n",
    "\n",
    "show_tad_1_bzip_1= nv.show_mdtraj(traj1_eq[::howManyFrames])\n",
    "show_tad_1_bzip_1.add_representation('licorice', selection = obtainSelection(resid_1_list), color='red')\n",
    "show_tad_1_bzip_1.add_representation('licorice', selection = obtainSelection(resid_2_list), color='blue')\n",
    "show_tad_1_bzip_1"
   ]
  },
  {
   "cell_type": "code",
   "execution_count": 63,
   "id": "ea559672",
   "metadata": {},
   "outputs": [
    {
     "name": "stdout",
     "output_type": "stream",
     "text": [
      "[65, 67, 76, 77, 79, 81, 83, 84, 90, 100, 105, 106, 108, 109, 113, 116, 122, 123, 125, 129, 138, 139, 140, 141, 145, 146, 154]\n",
      "[349, 351, 344, 336, 345, 341, 342, 350, 327, 324, 320, 323, 321, 326, 330, 334, 331, 335, 317, 304, 310, 306, 305, 302]\n"
     ]
    },
    {
     "data": {
      "application/vnd.jupyter.widget-view+json": {
       "model_id": "e1da78b5ddd24f559fdf2f49b626603b",
       "version_major": 2,
       "version_minor": 0
      },
      "text/plain": [
       "NGLWidget(max_frame=3684)"
      ]
     },
     "metadata": {},
     "output_type": "display_data"
    }
   ],
   "source": [
    "resid_1_list = getContactIndex(traj1_contacts, topology1, tad_1, bzip_2, cutoffValue)[0]\n",
    "print(resid_1_list)\n",
    "resid_2_list = getContactIndex(traj1_contacts, topology1, tad_1, bzip_2, cutoffValue)[1]\n",
    "print(resid_2_list)\n",
    "\n",
    "show_tad_1_bzip_2= nv.show_mdtraj(traj1_eq[::howManyFrames])\n",
    "show_tad_1_bzip_2.add_representation('licorice', selection = obtainSelection(resid_1_list), color='red')\n",
    "show_tad_1_bzip_2.add_representation('licorice', selection = obtainSelection(resid_2_list), color='blue')\n",
    "show_tad_1_bzip_2"
   ]
  },
  {
   "cell_type": "code",
   "execution_count": 67,
   "id": "467e86bf",
   "metadata": {},
   "outputs": [
    {
     "name": "stdout",
     "output_type": "stream",
     "text": [
      "[157, 159, 161, 178, 179, 180, 181, 182, 236, 237, 239, 259, 261, 268, 269, 273, 274, 275]\n",
      "[286, 287, 295, 283, 279, 280, 278, 285, 277, 281]\n"
     ]
    },
    {
     "data": {
      "application/vnd.jupyter.widget-view+json": {
       "model_id": "6d8daecf64ca414293da8042a506ca90",
       "version_major": 2,
       "version_minor": 0
      },
      "text/plain": [
       "NGLWidget(max_frame=3684)"
      ]
     },
     "metadata": {},
     "output_type": "display_data"
    }
   ],
   "source": [
    "resid_1_list = getContactIndex(traj1_contacts, topology1, tad_2, bzip_1, cutoffValue)[0]\n",
    "print(resid_1_list)\n",
    "resid_2_list = getContactIndex(traj1_contacts, topology1, tad_2, bzip_1, cutoffValue)[1]\n",
    "print(resid_2_list)\n",
    "\n",
    "show_tad_2_bzip_1= nv.show_mdtraj(traj1_eq[::howManyFrames])\n",
    "show_tad_2_bzip_1.add_representation('licorice', selection = obtainSelection(resid_1_list), color='red')\n",
    "show_tad_2_bzip_1.add_representation('licorice', selection = obtainSelection(resid_2_list), color='blue')\n",
    "show_tad_2_bzip_1"
   ]
  },
  {
   "cell_type": "code",
   "execution_count": 68,
   "id": "d5f915f0",
   "metadata": {},
   "outputs": [
    {
     "name": "stdout",
     "output_type": "stream",
     "text": [
      "[189, 193]\n",
      "[303, 302]\n"
     ]
    },
    {
     "data": {
      "application/vnd.jupyter.widget-view+json": {
       "model_id": "c2629dbeb66346c495b1430831829e4e",
       "version_major": 2,
       "version_minor": 0
      },
      "text/plain": [
       "NGLWidget(max_frame=3684)"
      ]
     },
     "metadata": {},
     "output_type": "display_data"
    }
   ],
   "source": [
    "resid_1_list = getContactIndex(traj1_contacts, topology1, tad_2, bzip_2, cutoffValue)[0]\n",
    "print(resid_1_list)\n",
    "resid_2_list = getContactIndex(traj1_contacts, topology1, tad_2, bzip_2, cutoffValue)[1]\n",
    "print(resid_2_list)\n",
    "\n",
    "show_tad_2_bzip_2= nv.show_mdtraj(traj1_eq[::howManyFrames])\n",
    "show_tad_2_bzip_2.add_representation('contact', selection = obtainSelection(resid_1_list), color='red')\n",
    "show_tad_2_bzip_2.add_representation('contact', selection = obtainSelection(resid_2_list), color='blue')\n",
    "show_tad_2_bzip_2"
   ]
  },
  {
   "cell_type": "code",
   "execution_count": null,
   "id": "61bd73fc",
   "metadata": {},
   "outputs": [],
   "source": []
  },
  {
   "cell_type": "code",
   "execution_count": null,
   "id": "b61c69f9",
   "metadata": {},
   "outputs": [],
   "source": []
  }
 ],
 "metadata": {
  "kernelspec": {
   "display_name": "Python 3 (ipykernel)",
   "language": "python",
   "name": "python3"
  },
  "language_info": {
   "codemirror_mode": {
    "name": "ipython",
    "version": 3
   },
   "file_extension": ".py",
   "mimetype": "text/x-python",
   "name": "python",
   "nbconvert_exporter": "python",
   "pygments_lexer": "ipython3",
   "version": "3.9.12"
  }
 },
 "nbformat": 4,
 "nbformat_minor": 5
}
